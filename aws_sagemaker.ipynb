{
 "cells": [
  {
   "cell_type": "code",
   "execution_count": null,
   "metadata": {},
   "outputs": [],
   "source": [
    "import boto3\n",
    "import sagemaker\n",
    "from sagemaker import get_execution_role\n",
    "\n",
    "# Setting up SageMaker session and role\n",
    "sagemaker_session = sagemaker.Session()\n",
    "role = get_execution_role()\n",
    "\n",
    "# Upload data to S3\n",
    "s3_bucket = \"your-bucket-name\"\n",
    "s3_prefix = \"crop-prediction\"\n",
    "train_data_s3_path = f\"s3://{s3_bucket}/{s3_prefix}/train.csv\"\n",
    "\n",
    "# Define and Train Model on AWS SageMaker\n",
    "from sagemaker.sklearn.estimator import SKLearn\n",
    "\n",
    "sklearn_estimator = SKLearn(entry_point=\"crop_pred.py\",\n",
    "                            framework_version=\"0.23-1\",\n",
    "                            role=role,\n",
    "                            instance_type=\"ml.m5.large\")\n",
    "\n",
    "sklearn_estimator.fit({\"train\": train_data_s3_path})\n",
    "\n",
    "# Deploy the model\n",
    "predictor = sklearn_estimator.deploy(instance_type=\"ml.m5.large\")\n",
    "\n",
    "\n"
   ]
  },
  {
   "cell_type": "code",
   "execution_count": null,
   "metadata": {},
   "outputs": [],
   "source": [
    "\n",
    "import json\n",
    "import boto3\n",
    "\n",
    "s3_client = boto3.client('s3')\n",
    "sagemaker_client = boto3.client('sagemaker-runtime')\n",
    "\n",
    "def lambda_handler(event, context):\n",
    "    # Get data from event\n",
    "    input_data = json.loads(event['body'])\n",
    "\n",
    "    # Invoke SageMaker Endpoint for Prediction\n",
    "    response = sagemaker_client.invoke_endpoint(\n",
    "        EndpointName=\"crop-prediction-endpoint\",\n",
    "        ContentType=\"application/json\",\n",
    "        Body=json.dumps(input_data)\n",
    "    )\n",
    "\n",
    "    prediction = json.loads(response['Body'].read().decode())\n",
    "\n",
    "    return {\n",
    "        'statusCode': 200,\n",
    "        'body': json.dumps({'prediction': prediction})\n",
    "    }"
   ]
  }
 ],
 "metadata": {
  "language_info": {
   "name": "python"
  }
 },
 "nbformat": 4,
 "nbformat_minor": 2
}
